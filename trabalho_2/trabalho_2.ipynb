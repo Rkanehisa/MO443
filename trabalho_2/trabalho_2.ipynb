{
 "cells": [
  {
   "cell_type": "code",
   "execution_count": 14,
   "metadata": {},
   "outputs": [],
   "source": [
    "import cv2\n",
    "import numpy as np\n",
    "import matplotlib.pyplot as plt"
   ]
  },
  {
   "cell_type": "code",
   "execution_count": 15,
   "metadata": {},
   "outputs": [],
   "source": [
    "img = cv2.imread(\"lenna.png\",0)"
   ]
  },
  {
   "cell_type": "code",
   "execution_count": 108,
   "metadata": {},
   "outputs": [],
   "source": [
    "def floyd_steinberg(original_img,thresh=128,zig_zag=False):\n",
    "    dithering = np.zeros((original_img.shape[0]+1,original_img.shape[1]+1), np.uint8)\n",
    "    img = original_img.copy()\n",
    "    img.resize(original_img.shape[0]+1,original_img.shape[1]+1)\n",
    "    \n",
    "    for y in range(img.shape[0]-1):\n",
    "        for i in range(img.shape[1]-1):\n",
    "            if(zig_zag == True and i%2 == 0):\n",
    "                x = img.shape[1] - i\n",
    "            else:\n",
    "                x = i\n",
    "            err = 0\n",
    "            if(img[y][x] > thresh):\n",
    "                dithering[y][x] = 255\n",
    "                err = img[y][x] - 255\n",
    "            else:\n",
    "                dithering[y][x] = 0\n",
    "                err = img[y][x] - 0\n",
    "\n",
    "                img[y][x+1] = img[y][x+1] + err*(7/16)\n",
    "                img[y+1][x-1] = img[y+1][x-1] + err*(3/16)\n",
    "                img[y+1][x] = img[y+1][x] + err*(5/16)\n",
    "                img[y+1][x+1] = img[y+1][x+1] + err*(1/16)\n",
    "    return dithering"
   ]
  },
  {
   "cell_type": "code",
   "execution_count": 109,
   "metadata": {},
   "outputs": [
    {
     "name": "stdout",
     "output_type": "stream",
     "text": [
      "[[169 169 168 ... 162 138 169]\n",
      " [169 168 167 ... 138 169 169]\n",
      " [168 167 169 ... 169 169 168]\n",
      " ...\n",
      " [118 122  53 ... 115 117 118]\n",
      " [122   0   0 ...   0   0   0]\n",
      " [  0   0   0 ...   0   0   0]]\n",
      "[[169 169 168 ... 162 138 169]\n",
      " [169 168 167 ... 138 169 169]\n",
      " [168 167 169 ... 169 169 168]\n",
      " ...\n",
      " [118 122  53 ... 115 117 118]\n",
      " [122   0   0 ...   0   0   0]\n",
      " [  0   0   0 ...   0   0   0]]\n"
     ]
    },
    {
     "ename": "IndexError",
     "evalue": "index 513 is out of bounds for axis 0 with size 513",
     "output_type": "error",
     "traceback": [
      "\u001b[0;31m---------------------------------------------------------------------------\u001b[0m",
      "\u001b[0;31mIndexError\u001b[0m                                Traceback (most recent call last)",
      "\u001b[0;32m<ipython-input-109-5ce01f987af5>\u001b[0m in \u001b[0;36m<module>\u001b[0;34m\u001b[0m\n\u001b[1;32m      1\u001b[0m \u001b[0ma0\u001b[0m \u001b[0;34m=\u001b[0m \u001b[0mfloyd_steinberg\u001b[0m\u001b[0;34m(\u001b[0m\u001b[0mimg\u001b[0m\u001b[0;34m)\u001b[0m\u001b[0;34m\u001b[0m\u001b[0;34m\u001b[0m\u001b[0m\n\u001b[1;32m      2\u001b[0m \u001b[0mimg\u001b[0m \u001b[0;34m=\u001b[0m \u001b[0mcv2\u001b[0m\u001b[0;34m.\u001b[0m\u001b[0mimread\u001b[0m\u001b[0;34m(\u001b[0m\u001b[0;34m\"lenna.png\"\u001b[0m\u001b[0;34m,\u001b[0m\u001b[0;36m0\u001b[0m\u001b[0;34m)\u001b[0m\u001b[0;34m\u001b[0m\u001b[0;34m\u001b[0m\u001b[0m\n\u001b[0;32m----> 3\u001b[0;31m \u001b[0ma1\u001b[0m \u001b[0;34m=\u001b[0m \u001b[0mfloyd_steinberg\u001b[0m\u001b[0;34m(\u001b[0m\u001b[0mimg\u001b[0m\u001b[0;34m,\u001b[0m\u001b[0mzig_zag\u001b[0m\u001b[0;34m=\u001b[0m\u001b[0;32mTrue\u001b[0m\u001b[0;34m)\u001b[0m\u001b[0;34m\u001b[0m\u001b[0;34m\u001b[0m\u001b[0m\n\u001b[0m",
      "\u001b[0;32m<ipython-input-108-bcf6edde7e3e>\u001b[0m in \u001b[0;36mfloyd_steinberg\u001b[0;34m(original_img, thresh, zig_zag)\u001b[0m\n\u001b[1;32m     12\u001b[0m                 \u001b[0mx\u001b[0m \u001b[0;34m=\u001b[0m \u001b[0mi\u001b[0m\u001b[0;34m\u001b[0m\u001b[0;34m\u001b[0m\u001b[0m\n\u001b[1;32m     13\u001b[0m             \u001b[0merr\u001b[0m \u001b[0;34m=\u001b[0m \u001b[0;36m0\u001b[0m\u001b[0;34m\u001b[0m\u001b[0;34m\u001b[0m\u001b[0m\n\u001b[0;32m---> 14\u001b[0;31m             \u001b[0;32mif\u001b[0m\u001b[0;34m(\u001b[0m\u001b[0mimg\u001b[0m\u001b[0;34m[\u001b[0m\u001b[0my\u001b[0m\u001b[0;34m]\u001b[0m\u001b[0;34m[\u001b[0m\u001b[0mx\u001b[0m\u001b[0;34m]\u001b[0m \u001b[0;34m>\u001b[0m \u001b[0mthresh\u001b[0m\u001b[0;34m)\u001b[0m\u001b[0;34m:\u001b[0m\u001b[0;34m\u001b[0m\u001b[0;34m\u001b[0m\u001b[0m\n\u001b[0m\u001b[1;32m     15\u001b[0m                 \u001b[0mdithering\u001b[0m\u001b[0;34m[\u001b[0m\u001b[0my\u001b[0m\u001b[0;34m]\u001b[0m\u001b[0;34m[\u001b[0m\u001b[0mx\u001b[0m\u001b[0;34m]\u001b[0m \u001b[0;34m=\u001b[0m \u001b[0;36m255\u001b[0m\u001b[0;34m\u001b[0m\u001b[0;34m\u001b[0m\u001b[0m\n\u001b[1;32m     16\u001b[0m                 \u001b[0merr\u001b[0m \u001b[0;34m=\u001b[0m \u001b[0mimg\u001b[0m\u001b[0;34m[\u001b[0m\u001b[0my\u001b[0m\u001b[0;34m]\u001b[0m\u001b[0;34m[\u001b[0m\u001b[0mx\u001b[0m\u001b[0;34m]\u001b[0m \u001b[0;34m-\u001b[0m \u001b[0;36m255\u001b[0m\u001b[0;34m\u001b[0m\u001b[0;34m\u001b[0m\u001b[0m\n",
      "\u001b[0;31mIndexError\u001b[0m: index 513 is out of bounds for axis 0 with size 513"
     ]
    }
   ],
   "source": [
    "a0 = floyd_steinberg(img)\n",
    "img = cv2.imread(\"lenna.png\",0)\n",
    "a1 = floyd_steinberg(img,zig_zag=True)"
   ]
  },
  {
   "cell_type": "code",
   "execution_count": null,
   "metadata": {},
   "outputs": [],
   "source": [
    "cv2.imwrite(\"floyd.png\",a0)\n",
    "cv2.imwrite(\"floyd_flip.png\",a1)"
   ]
  },
  {
   "cell_type": "code",
   "execution_count": 39,
   "metadata": {},
   "outputs": [],
   "source": [
    "d = {0:[[0,0,0],\n",
    "        [0,0,0],\n",
    "        [0,0,0]],\n",
    "     \n",
    "     1:[[0,255,0],\n",
    "        [0,0,0],\n",
    "        [0,0,0]],\n",
    "     \n",
    "     2:[[0,255,0],\n",
    "        [0,0,0],\n",
    "        [0,0,255]],\n",
    "     \n",
    "     3:[[255,255,0],\n",
    "        [0,0,0],\n",
    "        [0,0,255]],\n",
    "     \n",
    "     4:[[255,255,0],\n",
    "        [0,0,0],\n",
    "        [255,0,255]],\n",
    "     \n",
    "     5:[[255,255,255],\n",
    "        [0,0,0],\n",
    "        [255,0,255]],\n",
    "     \n",
    "     6:[[255,255,255],\n",
    "        [0,0,255],\n",
    "        [255,0,255]],\n",
    "     \n",
    "     7:[[255,255,255],\n",
    "        [0,0,255],\n",
    "        [255,255,255]],\n",
    "     \n",
    "     8:[[255,255,255],\n",
    "        [255,0,255],\n",
    "        [255,255,255]],\n",
    "     \n",
    "     9:[[255,255,255],\n",
    "        [255,255,255],\n",
    "        [255,255,255]],\n",
    "     }"
   ]
  },
  {
   "cell_type": "code",
   "execution_count": 40,
   "metadata": {},
   "outputs": [],
   "source": [
    "def halftoning(img):\n",
    "    new_img = np.zeros([img.shape[0]*3,img.shape[1]*3])\n",
    "    m = 1\n",
    "    n = 1\n",
    "    for i in range(img.shape[0]):\n",
    "        for j in range(img.shape[1]):\n",
    "            cols = np.array([[m-1, m, m+1],\n",
    "                             [m-1, m, m+1],\n",
    "                             [m-1, m, m+1]],\n",
    "                            dtype=np.intp)\n",
    "            rows = np.array([[n-1, n-1, n-1],\n",
    "                             [n, n, n],\n",
    "                             [n+1, n+1, n+1]],\n",
    "                             dtype=np.intp)\n",
    "            \n",
    "            new_img[cols,rows] = d[round(np.interp(img[i][j],[0,255],[0,9]))]\n",
    "            n = (n+3)%(new_img.shape[1])\n",
    "        m = (m+3)%(new_img.shape[0])\n",
    "    return new_img"
   ]
  },
  {
   "cell_type": "code",
   "execution_count": 41,
   "metadata": {},
   "outputs": [],
   "source": [
    "img = cv2.imread(\"lenna.png\",0)\n",
    "a = halftoning(img)"
   ]
  },
  {
   "cell_type": "code",
   "execution_count": 48,
   "metadata": {},
   "outputs": [
    {
     "data": {
      "text/plain": [
       "True"
      ]
     },
     "execution_count": 48,
     "metadata": {},
     "output_type": "execute_result"
    }
   ],
   "source": [
    "cv2.imwrite(\"dithering.png\",a)"
   ]
  },
  {
   "cell_type": "code",
   "execution_count": 114,
   "metadata": {},
   "outputs": [
    {
     "name": "stdout",
     "output_type": "stream",
     "text": [
      "None\n"
     ]
    }
   ],
   "source": [
    "a = np.ones([3])\n",
    "print(a.resize([4]))"
   ]
  },
  {
   "cell_type": "code",
   "execution_count": null,
   "metadata": {},
   "outputs": [],
   "source": []
  }
 ],
 "metadata": {
  "kernelspec": {
   "display_name": "Python 3",
   "language": "python",
   "name": "python3"
  },
  "language_info": {
   "codemirror_mode": {
    "name": "ipython",
    "version": 3
   },
   "file_extension": ".py",
   "mimetype": "text/x-python",
   "name": "python",
   "nbconvert_exporter": "python",
   "pygments_lexer": "ipython3",
   "version": "3.7.3"
  }
 },
 "nbformat": 4,
 "nbformat_minor": 2
}
