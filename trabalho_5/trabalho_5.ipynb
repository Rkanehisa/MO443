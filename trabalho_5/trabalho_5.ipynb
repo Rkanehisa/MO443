{
 "cells": [
  {
   "cell_type": "code",
   "execution_count": 178,
   "metadata": {},
   "outputs": [],
   "source": [
    "import numpy as np\n",
    "from skimage import measure\n",
    "from sklearn.metrics import pairwise_distances_argmin\n",
    "from skimage import color\n",
    "from sklearn import cluster\n",
    "from sklearn import metrics\n",
    "import cv2\n",
    "import matplotlib.pyplot as plt"
   ]
  },
  {
   "cell_type": "code",
   "execution_count": 179,
   "metadata": {},
   "outputs": [],
   "source": [
    "def quantize(raster, n_colors):\n",
    "    width, height, depth = raster.shape\n",
    "    reshaped_raster = np.reshape(raster, (width * height, depth))\n",
    "    print(\"K-Means starting\")\n",
    "    model = cluster.KMeans(n_clusters=n_colors)\n",
    "    labels = model.fit_predict(reshaped_raster)\n",
    "    palette = model.cluster_centers_\n",
    "    print(\"K-Means ended\")\n",
    "    quantized_raster = np.reshape(palette[labels], (width, height, palette.shape[1]))\n",
    "    \n",
    "    \n",
    "    return quantized_raster.astype(\"uint8\")"
   ]
  },
  {
   "cell_type": "code",
   "execution_count": 185,
   "metadata": {},
   "outputs": [],
   "source": [
    "raster = cv2.imread(\"img/peppers.png\")\n"
   ]
  },
  {
   "cell_type": "code",
   "execution_count": 186,
   "metadata": {},
   "outputs": [
    {
     "name": "stdout",
     "output_type": "stream",
     "text": [
      "K-Means starting\n",
      "K-Means ended\n",
      "K-Means starting\n",
      "K-Means ended\n",
      "K-Means starting\n",
      "K-Means ended\n",
      "K-Means starting\n",
      "K-Means ended\n"
     ]
    }
   ],
   "source": [
    "raster16 = quantize(raster,16)\n",
    "raster32 = quantize(raster,32)\n",
    "raster64 = quantize(raster,64)\n",
    "raster128 = quantize(raster,128)"
   ]
  },
  {
   "cell_type": "code",
   "execution_count": 187,
   "metadata": {},
   "outputs": [],
   "source": [
    "a = np.zeros(5)"
   ]
  },
  {
   "cell_type": "code",
   "execution_count": 188,
   "metadata": {},
   "outputs": [
    {
     "name": "stdout",
     "output_type": "stream",
     "text": [
      "1.0\n"
     ]
    }
   ],
   "source": [
    "s =  measure.compare_ssim(raster, raster,multichannel=True)\n",
    "print(s)\n",
    "a[4] = s"
   ]
  },
  {
   "cell_type": "code",
   "execution_count": 189,
   "metadata": {},
   "outputs": [
    {
     "name": "stdout",
     "output_type": "stream",
     "text": [
      "0.8925570556309185\n"
     ]
    }
   ],
   "source": [
    "s =  measure.compare_ssim(raster, raster128,multichannel=True)\n",
    "print(s)\n",
    "a[3] = s"
   ]
  },
  {
   "cell_type": "code",
   "execution_count": 190,
   "metadata": {},
   "outputs": [
    {
     "name": "stdout",
     "output_type": "stream",
     "text": [
      "0.8479639686873287\n"
     ]
    }
   ],
   "source": [
    "s =  measure.compare_ssim(raster, raster64,multichannel=True)\n",
    "print(s)\n",
    "a[2] = s"
   ]
  },
  {
   "cell_type": "code",
   "execution_count": 191,
   "metadata": {},
   "outputs": [
    {
     "name": "stdout",
     "output_type": "stream",
     "text": [
      "0.7945513919397827\n"
     ]
    }
   ],
   "source": [
    "s =  measure.compare_ssim(raster, raster32,multichannel=True)\n",
    "print(s)\n",
    "a[1] = s"
   ]
  },
  {
   "cell_type": "code",
   "execution_count": 192,
   "metadata": {},
   "outputs": [
    {
     "name": "stdout",
     "output_type": "stream",
     "text": [
      "0.736243987535004\n"
     ]
    }
   ],
   "source": [
    "s =  measure.compare_ssim(raster, raster16,multichannel=True)\n",
    "print(s)\n",
    "a[0] = s"
   ]
  },
  {
   "cell_type": "code",
   "execution_count": 194,
   "metadata": {},
   "outputs": [
    {
     "data": {
      "image/png": "[encoded data removed]",
      "text/plain": [
       "<Figure size 432x288 with 1 Axes>"
      ]
     },
     "metadata": {
      "needs_background": "light"
     },
     "output_type": "display_data"
    }
   ],
   "source": [
    "fig, ax = plt.subplots()\n",
    "ax.bar([x for x in range(len(a))],a,width=.5)\n",
    "plt.yticks([.7,.8,.9,0,1])\n",
    "plt.ylim([.65,1.01])\n",
    "ax.set_xticklabels([0,16,32,64,128,256])\n",
    "plt.xlabel(\"Nº Cores\")\n",
    "plt.ylabel(\"SSIM\")\n",
    "plt.title(\"Erro X Nº Cores\")\n",
    "plt.show()\n",
    "fig.savefig('res/peppers.png', dpi=900)"
   ]
  },
  {
   "cell_type": "code",
   "execution_count": 195,
   "metadata": {},
   "outputs": [
    {
     "data": {
      "text/plain": [
       "True"
      ]
     },
     "execution_count": 195,
     "metadata": {},
     "output_type": "execute_result"
    }
   ],
   "source": [
    "cv2.imwrite(\"res/peppers16.png\",raster16)\n",
    "cv2.imwrite(\"res/peppers32.png\",raster32)\n",
    "cv2.imwrite(\"res/peppers64.png\",raster64)\n",
    "cv2.imwrite(\"res/peppers128.png\",raster128)"
   ]
  },
  {
   "cell_type": "code",
   "execution_count": null,
   "metadata": {},
   "outputs": [],
   "source": []
  }
 ],
 "metadata": {
  "kernelspec": {
   "display_name": "Python 3",
   "language": "python",
   "name": "python3"
  },
  "language_info": {
   "codemirror_mode": {
    "name": "ipython",
    "version": 3
   },
   "file_extension": ".py",
   "mimetype": "text/x-python",
   "name": "python",
   "nbconvert_exporter": "python",
   "pygments_lexer": "ipython3",
   "version": "3.7.1"
  },
  "varInspector": {
   "cols": {
    "lenName": 16,
    "lenType": 16,
    "lenVar": 40
   },
   "kernels_config": {
    "python": {
     "delete_cmd_postfix": "",
     "delete_cmd_prefix": "del ",
     "library": "var_list.py",
     "varRefreshCmd": "print(var_dic_list())"
    },
    "r": {
     "delete_cmd_postfix": ") ",
     "delete_cmd_prefix": "rm(",
     "library": "var_list.r",
     "varRefreshCmd": "cat(var_dic_list()) "
    }
   },
   "types_to_exclude": [
    "module",
    "function",
    "builtin_function_or_method",
    "instance",
    "_Feature"
   ],
   "window_display": false
  }
 },
 "nbformat": 4,
 "nbformat_minor": 2
}
